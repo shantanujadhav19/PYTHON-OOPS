{
  "nbformat": 4,
  "nbformat_minor": 0,
  "metadata": {
    "colab": {
      "provenance": []
    },
    "kernelspec": {
      "name": "python3",
      "display_name": "Python 3"
    },
    "language_info": {
      "name": "python"
    }
  },
  "cells": [
    {
      "cell_type": "markdown",
      "source": [
        "#**ANSWERS TO THEORITICAL QUESTIONS**\n",
        "\n",
        "### 1. What is Object-Oriented Programming (OOP)?\n",
        "  - OOP is a programming paradigm centered around objects and classes. It models real-world entities using classes (blueprints) and objects (instances). It promotes modularity, code reuse, and encapsulation.\n",
        "\n",
        "###2. What is a class in OOP?\n",
        "  - A class is a blueprint for creating objects. It defines attributes (variables) and methods (functions) that characterize any object of the class.\n",
        "\n",
        "###3. What is an object in OOP?\n",
        "  - An object is an instance of a class. It holds actual data and can access class methods and attributes.\n",
        "\n",
        "###4. What is the difference between abstraction and encapsulation?\n",
        "  - Abstraction hides implementation details and shows only relevant features.\n",
        "\n",
        "  - Encapsulation wraps data and methods into a single unit (class) and restricts access using access modifiers.\n",
        "\n",
        "###5. What are dunder methods in Python?\n",
        "  - Dunder methods (short for double underscore methods) like __init__, __str__, and __len__ are special methods used to implement operator overloading, initialization, and custom behaviors in Python objects.\n",
        "\n",
        "###6. Explain the concept of inheritance in OOP.\n",
        "  - Inheritance allows a class (child/derived) to inherit attributes and methods from another class (parent/base), promoting code reuse.\n",
        "\n",
        "###7. What is polymorphism in OOP?\n",
        "  - Polymorphism allows objects of different classes to respond to the same method name differently. For example, draw() in Circle and Rectangle classes behaves differently but shares the same name.\n",
        "\n",
        "###8. How is encapsulation achieved in Python?\n",
        "  - Encapsulation is done by:\n",
        "\n",
        "   - Using private (__var) or protected (_var) attributes.\n",
        "\n",
        "   - Providing getter/setter methods.\n",
        "\n",
        "   - Controlling access to data through methods.\n",
        "\n",
        "###9. What is a constructor in Python?\n",
        "  - A constructor is the __init__ method that gets called automatically when an object is created. It initializes the object’s attributes.\n",
        "\n",
        "###10. What are class and static methods in Python?\n",
        "  - Class method (@classmethod) takes cls as a parameter and can modify class state.\n",
        "\n",
        "  - Static method (@staticmethod) doesn’t take self or cls and behaves like a regular function inside a class.\n",
        "\n",
        "###11. What is method overloading in Python?\n",
        "  - Python doesn’t support traditional method overloading. Instead, it uses default arguments or *args and **kwargs to achieve similar behavior.\n",
        "\n",
        "###12. What is method overriding in OOP?\n",
        "  - Method overriding allows a child class to provide a specific implementation of a method already defined in its parent class.\n",
        "\n",
        "###13. What is a property decorator in Python?\n",
        "  - The @property decorator is used to define getter methods that can be accessed like attributes. It’s useful for encapsulation.\n",
        "\n",
        "###14. Why is polymorphism important in OOP?\n",
        "  - It promotes interface reuse, enables dynamic behavior, and supports flexibility and maintainability of code.\n",
        "\n",
        "###15. What is an abstract class in Python?\n",
        "  - An abstract class (using the abc module) contains one or more abstract methods (methods without implementation). It can’t be instantiated and must be subclassed.\n",
        "\n",
        "###16. What are the advantages of OOP?\n",
        "  - Code reuse via inheritance\n",
        "\n",
        "  - Data encapsulation\n",
        "\n",
        "  - Polymorphism for flexibility\n",
        "\n",
        "  - Better modularity and readability\n",
        "\n",
        "###17. What is the difference between a class variable and an instance variable?\n",
        "  - Class variable: Shared among all instances.\n",
        "\n",
        "  - Instance variable: Unique to each object.\n",
        "\n",
        "###18. What is multiple inheritance in Python?\n",
        "  - A class can inherit from more than one parent class. Python supports this using Method Resolution Order (MRO) to resolve conflicts.\n",
        "\n",
        "###19. Explain the purpose of __str__ and __repr__ methods in Python.\n",
        "  - __str__: Returns a readable, user-friendly string (used by print()).\n",
        "\n",
        "  - __repr__: Returns an unambiguous string meant for debugging (used by the interpreter).\n",
        "\n",
        "###20. What is the significance of the super() function in Python?\n",
        "  - super() allows access to methods of a parent class. Commonly used to call the parent’s __init__ method in inheritance.\n",
        "\n",
        "###21. What is the significance of the __del__ method in Python?\n",
        "  - The __del__ method is a destructor called when an object is about to be destroyed, typically used for cleanup tasks.\n",
        "\n",
        "###22. What is the difference between @staticmethod and @classmethod in Python?\n",
        "  - @staticmethod: Doesn’t access class or instance data.\n",
        "\n",
        "  - @classmethod: Accesses class-level data via cls.\n",
        "\n",
        "###23. How does polymorphism work in Python with inheritance?\n",
        "  - Python supports polymorphism through method overriding. Subclasses override parent methods and behave differently when called via parent references.\n",
        "\n",
        "###24. What is method chaining in Python OOP?\n",
        "  - Method chaining allows calling multiple methods on the same object in a single line by returning self from each method.\n",
        "\n",
        "###25. What is the purpose of the __call__ method in Python?\n",
        "  - The __call__ method makes an instance of a class callable like a function, enabling function-like behaviour in objects.\n",
        "\n",
        "\n",
        "\n",
        "---\n",
        "\n",
        "#**ANSWERS TO PRACTICAL QUESTIONS**"
      ],
      "metadata": {
        "id": "bVwbq1pPUcYU"
      }
    },
    {
      "cell_type": "markdown",
      "source": [
        "Create a parent class Animal with a method speak() that prints a generic message. Create a child class Dog that overrides the speak() method to print \"Bark!\"?\n",
        "\n"
      ],
      "metadata": {
        "id": "_vxOaSFtaMOr"
      }
    },
    {
      "cell_type": "code",
      "source": [
        "class Animal:\n",
        "    def speak(self):\n",
        "        print(\"Animal speaks\")\n",
        "\n",
        "class Dog(Animal):\n",
        "    def speak(self):\n",
        "        print(\"Bark!\")\n",
        "\n",
        "# Test\n",
        "dog = Dog()\n",
        "dog.speak()\n"
      ],
      "metadata": {
        "colab": {
          "base_uri": "https://localhost:8080/"
        },
        "id": "mBCXM_QhZ6Sx",
        "outputId": "d9f3e306-1349-4321-ddaf-3edb9c96d80a"
      },
      "execution_count": 1,
      "outputs": [
        {
          "output_type": "stream",
          "name": "stdout",
          "text": [
            "Bark!\n"
          ]
        }
      ]
    },
    {
      "cell_type": "markdown",
      "source": [
        "Write a program to create an abstract class Shape with a method area(). Derive classes Circle and Rectangle from it and implement the area() method in both?\n",
        "\n"
      ],
      "metadata": {
        "id": "Zw762oqDZ605"
      }
    },
    {
      "cell_type": "code",
      "source": [
        "from abc import ABC, abstractmethod\n",
        "\n",
        "class Shape(ABC):\n",
        "    @abstractmethod\n",
        "    def area(self):\n",
        "        pass\n",
        "\n",
        "class Circle(Shape):\n",
        "    def __init__(self, radius):\n",
        "        self.radius = radius\n",
        "\n",
        "    def area(self):\n",
        "        return 3.14 * self.radius * self.radius\n",
        "\n",
        "class Rectangle(Shape):\n",
        "    def __init__(self, length, width):\n",
        "        self.length = length\n",
        "        self.width = width\n",
        "\n",
        "    def area(self):\n",
        "        return self.length * self.width\n",
        "\n",
        "# Test\n",
        "circle = Circle(5)\n",
        "rectangle = Rectangle(4, 6)\n",
        "print(circle.area())     # 78.5\n",
        "print(rectangle.area())  # 24\n"
      ],
      "metadata": {
        "colab": {
          "base_uri": "https://localhost:8080/"
        },
        "id": "AiE7p2QHZ6Ay",
        "outputId": "699e8450-90f9-4baa-b045-a16291fdd604"
      },
      "execution_count": 2,
      "outputs": [
        {
          "output_type": "stream",
          "name": "stdout",
          "text": [
            "78.5\n",
            "24\n"
          ]
        }
      ]
    },
    {
      "cell_type": "markdown",
      "source": [
        "Implement a multi-level inheritance scenario where a class Vehicle has an attribute type. Derive a class Car and further derive a class ElectricCar that adds a battery attribute?"
      ],
      "metadata": {
        "id": "8KyZHm4BZ7Oa"
      }
    },
    {
      "cell_type": "code",
      "source": [
        "from abc import ABC, abstractmethod\n",
        "\n",
        "class Shape(ABC):\n",
        "    @abstractmethod\n",
        "    def area(self):\n",
        "        pass\n",
        "\n",
        "class Circle(Shape):\n",
        "    def __init__(self, radius):\n",
        "        self.radius = radius\n",
        "\n",
        "    def area(self):\n",
        "        return 3.14 * self.radius * self.radius\n",
        "\n",
        "class Rectangle(Shape):\n",
        "    def __init__(self, length, width):\n",
        "        self.length = length\n",
        "        self.width = width\n",
        "\n",
        "    def area(self):\n",
        "        return self.length * self.width\n",
        "\n",
        "# Test\n",
        "circle = Circle(5)\n",
        "rectangle = Rectangle(4, 6)\n",
        "print(circle.area())     # 78.5\n",
        "print(rectangle.area())  # 24\n"
      ],
      "metadata": {
        "colab": {
          "base_uri": "https://localhost:8080/"
        },
        "id": "VwY0gnG3Z54L",
        "outputId": "70eb7b2d-fe6f-441b-caf0-24d10cc062b0"
      },
      "execution_count": 3,
      "outputs": [
        {
          "output_type": "stream",
          "name": "stdout",
          "text": [
            "78.5\n",
            "24\n"
          ]
        }
      ]
    },
    {
      "cell_type": "markdown",
      "source": [
        "Demonstrate polymorphism by creating a base class Bird with a method fly(). Create two derived classes Sparrow and Penguin that override the fly() method?\n",
        "\n"
      ],
      "metadata": {
        "id": "NWmKMHjXZ8Hj"
      }
    },
    {
      "cell_type": "code",
      "source": [
        "class Bird:\n",
        "    def fly(self):\n",
        "        print(\"Some birds can fly\")\n",
        "\n",
        "class Sparrow(Bird):\n",
        "    def fly(self):\n",
        "        print(\"Sparrow flies high\")\n",
        "\n",
        "class Penguin(Bird):\n",
        "    def fly(self):\n",
        "        print(\"Penguins can't fly\")\n",
        "\n",
        "# Test\n",
        "birds = [Sparrow(), Penguin()]\n",
        "for bird in birds:\n",
        "    bird.fly()\n"
      ],
      "metadata": {
        "colab": {
          "base_uri": "https://localhost:8080/"
        },
        "id": "4jbjJPa3Z5yx",
        "outputId": "d8be7fe9-09fa-438d-f0fe-a265d07e6385"
      },
      "execution_count": 4,
      "outputs": [
        {
          "output_type": "stream",
          "name": "stdout",
          "text": [
            "Sparrow flies high\n",
            "Penguins can't fly\n"
          ]
        }
      ]
    },
    {
      "cell_type": "markdown",
      "source": [
        "Write a program to demonstrate encapsulation by creating a class BankAccount with private attributes balance and methods to deposit, withdraw, and check balance?\n",
        "\n"
      ],
      "metadata": {
        "id": "zE68AX0mZ8go"
      }
    },
    {
      "cell_type": "code",
      "source": [
        "class BankAccount:\n",
        "    def __init__(self):\n",
        "        self.__balance = 0\n",
        "\n",
        "    def deposit(self, amount):\n",
        "        self.__balance += amount\n",
        "\n",
        "    def withdraw(self, amount):\n",
        "        if amount <= self.__balance:\n",
        "            self.__balance -= amount\n",
        "        else:\n",
        "            print(\"Insufficient balance\")\n",
        "\n",
        "    def check_balance(self):\n",
        "        return self.__balance\n",
        "\n",
        "# Test\n",
        "acc = BankAccount()\n",
        "acc.deposit(500)\n",
        "acc.withdraw(100)\n",
        "print(acc.check_balance())  # 400\n"
      ],
      "metadata": {
        "colab": {
          "base_uri": "https://localhost:8080/"
        },
        "id": "ppwmwO0gb7ll",
        "outputId": "0e5a92b3-8595-41d1-8a34-ff1af3951957"
      },
      "execution_count": 5,
      "outputs": [
        {
          "output_type": "stream",
          "name": "stdout",
          "text": [
            "400\n"
          ]
        }
      ]
    },
    {
      "cell_type": "markdown",
      "source": [
        "Demonstrate runtime polymorphism using a method play() in a base class Instrument. Derive classes Guitar and Piano that implement their own version of play()?\n",
        "\n"
      ],
      "metadata": {
        "id": "fVUoXAWIZ89M"
      }
    },
    {
      "cell_type": "code",
      "source": [
        "class Instrument:\n",
        "    def play(self):\n",
        "        print(\"Playing instrument\")\n",
        "\n",
        "class Guitar(Instrument):\n",
        "    def play(self):\n",
        "        print(\"Strumming guitar\")\n",
        "\n",
        "class Piano(Instrument):\n",
        "    def play(self):\n",
        "        print(\"Playing piano\")\n",
        "\n",
        "# Test\n",
        "instruments = [Guitar(), Piano()]\n",
        "for instr in instruments:\n",
        "    instr.play()\n"
      ],
      "metadata": {
        "colab": {
          "base_uri": "https://localhost:8080/"
        },
        "id": "gvrnoaCFZ5tB",
        "outputId": "ef42881f-4185-482b-a10c-66ddace83610"
      },
      "execution_count": 6,
      "outputs": [
        {
          "output_type": "stream",
          "name": "stdout",
          "text": [
            "Strumming guitar\n",
            "Playing piano\n"
          ]
        }
      ]
    },
    {
      "cell_type": "markdown",
      "source": [
        "Create a class MathOperations with a class method add_numbers() to add two numbers and a static method subtract_numbers() to subtract two numbers?\n",
        "\n"
      ],
      "metadata": {
        "id": "arsxM_g6Z9Ul"
      }
    },
    {
      "cell_type": "code",
      "source": [
        "class MathOperations:\n",
        "    @classmethod\n",
        "    def add_numbers(cls, a, b):\n",
        "        return a + b\n",
        "\n",
        "    @staticmethod\n",
        "    def subtract_numbers(a, b):\n",
        "        return a - b\n",
        "\n",
        "# Test\n",
        "print(MathOperations.add_numbers(5, 3))       # 8\n",
        "print(MathOperations.subtract_numbers(5, 3))  # 2\n"
      ],
      "metadata": {
        "colab": {
          "base_uri": "https://localhost:8080/"
        },
        "id": "l98PzXqsZ5mx",
        "outputId": "37c03f03-2898-4f76-a12c-16a023be9fe6"
      },
      "execution_count": 7,
      "outputs": [
        {
          "output_type": "stream",
          "name": "stdout",
          "text": [
            "8\n",
            "2\n"
          ]
        }
      ]
    },
    {
      "cell_type": "markdown",
      "source": [
        "Implement a class Person with a class method to count the total number of persons created?\n",
        "\n"
      ],
      "metadata": {
        "id": "kETdSO95Z9ry"
      }
    },
    {
      "cell_type": "code",
      "source": [
        "class Person:\n",
        "    count = 0\n",
        "\n",
        "    def __init__(self, name):\n",
        "        self.name = name\n",
        "        Person.count += 1\n",
        "\n",
        "    @classmethod\n",
        "    def get_count(cls):\n",
        "        return cls.count\n",
        "\n",
        "# Test\n",
        "p1 = Person(\"Alice\")\n",
        "p2 = Person(\"Bob\")\n",
        "print(Person.get_count())  # 2\n"
      ],
      "metadata": {
        "colab": {
          "base_uri": "https://localhost:8080/"
        },
        "id": "Od_Z27x6Z5gh",
        "outputId": "eb347577-05a5-414d-c9f4-28176537504d"
      },
      "execution_count": 8,
      "outputs": [
        {
          "output_type": "stream",
          "name": "stdout",
          "text": [
            "2\n"
          ]
        }
      ]
    },
    {
      "cell_type": "markdown",
      "source": [
        "Write a class Fraction with attributes numerator and denominator. Override the __str__ method to display the fraction as \"numerator/denominator\"?\n",
        "\n"
      ],
      "metadata": {
        "id": "87Jwq1G0Z-M7"
      }
    },
    {
      "cell_type": "code",
      "source": [
        "class Fraction:\n",
        "    def __init__(self, numerator, denominator):\n",
        "        self.numerator = numerator\n",
        "        self.denominator = denominator\n",
        "\n",
        "    def __str__(self):\n",
        "        return f\"{self.numerator}/{self.denominator}\"\n",
        "\n",
        "# Test\n",
        "f = Fraction(3, 4)\n",
        "print(f)  # 3/4\n"
      ],
      "metadata": {
        "colab": {
          "base_uri": "https://localhost:8080/"
        },
        "id": "vLQoQFd9Z5aq",
        "outputId": "c22b551c-23a3-4903-dc2b-b55cb0d5a95e"
      },
      "execution_count": 9,
      "outputs": [
        {
          "output_type": "stream",
          "name": "stdout",
          "text": [
            "3/4\n"
          ]
        }
      ]
    },
    {
      "cell_type": "markdown",
      "source": [
        "Demonstrate operator overloading by creating a class Vector and overriding the + operator to add two vectors?\n",
        "\n"
      ],
      "metadata": {
        "id": "KruHS1PRZ-lk"
      }
    },
    {
      "cell_type": "code",
      "source": [
        "class Vector:\n",
        "    def __init__(self, x, y):\n",
        "        self.x = x\n",
        "        self.y = y\n",
        "\n",
        "    def __add__(self, other):\n",
        "        return Vector(self.x + other.x, self.y + other.y)\n",
        "\n",
        "    def __str__(self):\n",
        "        return f\"Vector({self.x}, {self.y})\"\n",
        "\n",
        "# Test\n",
        "v1 = Vector(1, 2)\n",
        "v2 = Vector(3, 4)\n",
        "print(v1 + v2)  # Vector(4, 6)\n"
      ],
      "metadata": {
        "colab": {
          "base_uri": "https://localhost:8080/"
        },
        "id": "1JnThYphZ5Ua",
        "outputId": "83ca4c04-d7a9-4ef2-f852-f5ee10e36623"
      },
      "execution_count": 10,
      "outputs": [
        {
          "output_type": "stream",
          "name": "stdout",
          "text": [
            "Vector(4, 6)\n"
          ]
        }
      ]
    },
    {
      "cell_type": "markdown",
      "source": [
        "Create a class Person with attributes name and age. Add a method greet() that prints \"Hello, my name is {name} and I am {age} years old.\"?\n",
        "\n"
      ],
      "metadata": {
        "id": "SObALxyZZ_BT"
      }
    },
    {
      "cell_type": "code",
      "source": [
        "class Person:\n",
        "    def __init__(self, name, age):\n",
        "        self.name = name\n",
        "        self.age = age\n",
        "\n",
        "    def greet(self):\n",
        "        print(f\"Hello, my name is {self.name} and I am {self.age} years old.\")\n",
        "\n",
        "# Test\n",
        "p = Person(\"Alice\", 25)\n",
        "p.greet()\n"
      ],
      "metadata": {
        "colab": {
          "base_uri": "https://localhost:8080/"
        },
        "id": "OaIaWANtZ5Op",
        "outputId": "4ca01c2d-4989-4860-829b-7358fac95b7c"
      },
      "execution_count": 11,
      "outputs": [
        {
          "output_type": "stream",
          "name": "stdout",
          "text": [
            "Hello, my name is Alice and I am 25 years old.\n"
          ]
        }
      ]
    },
    {
      "cell_type": "markdown",
      "source": [
        "Implement a class Student with attributes name and grades. Create a method average_grade() to compute the average of the grades?\n",
        "\n"
      ],
      "metadata": {
        "id": "C26U6E7YZ_-v"
      }
    },
    {
      "cell_type": "code",
      "source": [
        "class Student:\n",
        "    def __init__(self, name, grades):\n",
        "        self.name = name\n",
        "        self.grades = grades\n",
        "\n",
        "    def average_grade(self):\n",
        "        return sum(self.grades) / len(self.grades)\n",
        "\n",
        "# Test\n",
        "s = Student(\"Bob\", [85, 90, 78])\n",
        "print(s.average_grade())  # 84.33\n"
      ],
      "metadata": {
        "colab": {
          "base_uri": "https://localhost:8080/"
        },
        "id": "16PKoZx7Z5Ja",
        "outputId": "6be81b78-7afc-4ef5-9da1-20cbd72b1544"
      },
      "execution_count": 12,
      "outputs": [
        {
          "output_type": "stream",
          "name": "stdout",
          "text": [
            "84.33333333333333\n"
          ]
        }
      ]
    },
    {
      "cell_type": "markdown",
      "source": [
        "Create a class Rectangle with methods set_dimensions() to set the dimensions and area() to calculate the area?\n",
        "\n"
      ],
      "metadata": {
        "id": "1esWeJEXaAbJ"
      }
    },
    {
      "cell_type": "code",
      "source": [
        "class Rectangle:\n",
        "    def set_dimensions(self, length, width):\n",
        "        self.length = length\n",
        "        self.width = width\n",
        "\n",
        "    def area(self):\n",
        "        return self.length * self.width\n",
        "\n",
        "# Test\n",
        "r = Rectangle()\n",
        "r.set_dimensions(5, 4)\n",
        "print(r.area())  # 20\n"
      ],
      "metadata": {
        "colab": {
          "base_uri": "https://localhost:8080/"
        },
        "id": "RCjgq1YcZ5Ea",
        "outputId": "7a2bad4e-6c1d-4daa-d459-3e14a7b68cdc"
      },
      "execution_count": 13,
      "outputs": [
        {
          "output_type": "stream",
          "name": "stdout",
          "text": [
            "20\n"
          ]
        }
      ]
    },
    {
      "cell_type": "markdown",
      "source": [
        "Create a class Employee with a method calculate_salary() that computes the salary based on hours worked and hourly rate. Create a derived class Manager that adds a bonus to the salary?\n",
        "\n"
      ],
      "metadata": {
        "id": "nmzzQgzeaA5m"
      }
    },
    {
      "cell_type": "code",
      "source": [
        "class Employee:\n",
        "    def __init__(self, hours, rate):\n",
        "        self.hours = hours\n",
        "        self.rate = rate\n",
        "\n",
        "    def calculate_salary(self):\n",
        "        return self.hours * self.rate\n",
        "\n",
        "class Manager(Employee):\n",
        "    def __init__(self, hours, rate, bonus):\n",
        "        super().__init__(hours, rate)\n",
        "        self.bonus = bonus\n",
        "\n",
        "    def calculate_salary(self):\n",
        "        return super().calculate_salary() + self.bonus\n",
        "\n",
        "# Test\n",
        "e = Employee(40, 20)\n",
        "m = Manager(40, 20, 300)\n",
        "print(e.calculate_salary())  # 800\n",
        "print(m.calculate_salary())  # 1100\n"
      ],
      "metadata": {
        "colab": {
          "base_uri": "https://localhost:8080/"
        },
        "id": "zbzzvYcOZ4-y",
        "outputId": "ae3ae812-5d14-4e26-de16-9fb4e9fe26e4"
      },
      "execution_count": 14,
      "outputs": [
        {
          "output_type": "stream",
          "name": "stdout",
          "text": [
            "800\n",
            "1100\n"
          ]
        }
      ]
    },
    {
      "cell_type": "markdown",
      "source": [
        "Create a class Product with attributes name, price, and quantity. Implement a method total_price() that calculates the total price of the product?\n",
        "\n"
      ],
      "metadata": {
        "id": "ZuJCd995aBWY"
      }
    },
    {
      "cell_type": "code",
      "source": [
        "class Product:\n",
        "    def __init__(self, name, price, quantity):\n",
        "        self.name = name\n",
        "        self.price = price\n",
        "        self.quantity = quantity\n",
        "\n",
        "    def total_price(self):\n",
        "        return self.price * self.quantity\n",
        "\n",
        "# Test\n",
        "p = Product(\"Pen\", 2.5, 10)\n",
        "print(p.total_price())  # 25.0\n"
      ],
      "metadata": {
        "colab": {
          "base_uri": "https://localhost:8080/"
        },
        "id": "bAL1FDbYZ44i",
        "outputId": "45f27c2c-ec16-4b38-ae9a-e849797fca2e"
      },
      "execution_count": 15,
      "outputs": [
        {
          "output_type": "stream",
          "name": "stdout",
          "text": [
            "25.0\n"
          ]
        }
      ]
    },
    {
      "cell_type": "markdown",
      "source": [
        "Create a class Animal with an abstract method sound(). Create two derived classes Cow and Sheep that implement the sound() method?\n",
        "\n"
      ],
      "metadata": {
        "id": "aXZ5tLIUaCBD"
      }
    },
    {
      "cell_type": "code",
      "source": [
        "from abc import ABC, abstractmethod\n",
        "\n",
        "class Animal(ABC):\n",
        "    @abstractmethod\n",
        "    def sound(self):\n",
        "        pass\n",
        "\n",
        "class Cow(Animal):\n",
        "    def sound(self):\n",
        "        print(\"Moo\")\n",
        "\n",
        "class Sheep(Animal):\n",
        "    def sound(self):\n",
        "        print(\"Baa\")\n",
        "\n",
        "# Test\n",
        "c = Cow()\n",
        "s = Sheep()\n",
        "c.sound()\n",
        "s.sound()\n"
      ],
      "metadata": {
        "colab": {
          "base_uri": "https://localhost:8080/"
        },
        "id": "0o4ucf_sZ4yx",
        "outputId": "2cea6206-ae88-46b2-c1b7-21271a973bbc"
      },
      "execution_count": 16,
      "outputs": [
        {
          "output_type": "stream",
          "name": "stdout",
          "text": [
            "Moo\n",
            "Baa\n"
          ]
        }
      ]
    },
    {
      "cell_type": "markdown",
      "source": [
        "Create a class Book with attributes title, author, and year_published. Add a method get_book_info() that returns a formatted string with the book’s details?\n",
        "\n"
      ],
      "metadata": {
        "id": "u5Js5es0aCc3"
      }
    },
    {
      "cell_type": "code",
      "source": [
        "class Book:\n",
        "    def __init__(self, title, author, year_published):\n",
        "        self.title = title\n",
        "        self.author = author\n",
        "        self.year_published = year_published\n",
        "\n",
        "    def get_book_info(self):\n",
        "        return f\"{self.title} by {self.author}, published in {self.year_published}\"\n",
        "\n",
        "# Test\n",
        "b = Book(\"1984\", \"George Orwell\", 1949)\n",
        "print(b.get_book_info())\n"
      ],
      "metadata": {
        "colab": {
          "base_uri": "https://localhost:8080/"
        },
        "id": "0tukoFEcZ4rc",
        "outputId": "c474d4b4-0ebc-4120-ac33-937677528693"
      },
      "execution_count": 17,
      "outputs": [
        {
          "output_type": "stream",
          "name": "stdout",
          "text": [
            "1984 by George Orwell, published in 1949\n"
          ]
        }
      ]
    },
    {
      "cell_type": "markdown",
      "source": [
        "Create a class House with attributes address and price. Create a derived class Mansion that adds an attribute number_of_rooms?\n",
        "\n"
      ],
      "metadata": {
        "id": "9x0XWFCXaC_i"
      }
    },
    {
      "cell_type": "code",
      "source": [
        "class House:\n",
        "    def __init__(self, address, price):\n",
        "        self.address = address\n",
        "        self.price = price\n",
        "\n",
        "class Mansion(House):\n",
        "    def __init__(self, address, price, number_of_rooms):\n",
        "        super().__init__(address, price)\n",
        "        self.number_of_rooms = number_of_rooms\n",
        "\n",
        "# Test\n",
        "m = Mansion(\"123 Elm St\", 500000, 10)\n",
        "print(m.address, m.price, m.number_of_rooms)\n",
        "\n"
      ],
      "metadata": {
        "colab": {
          "base_uri": "https://localhost:8080/"
        },
        "id": "6wDFoHyxZ4XT",
        "outputId": "6535feda-3b5c-4231-d969-72ad4c37ab6f"
      },
      "execution_count": 18,
      "outputs": [
        {
          "output_type": "stream",
          "name": "stdout",
          "text": [
            "123 Elm St 500000 10\n"
          ]
        }
      ]
    },
    {
      "cell_type": "code",
      "source": [],
      "metadata": {
        "id": "1b5kI7qTc3gw"
      },
      "execution_count": null,
      "outputs": []
    }
  ]
}